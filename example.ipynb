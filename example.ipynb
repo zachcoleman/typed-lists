{
 "cells": [
  {
   "cell_type": "code",
   "execution_count": 1,
   "metadata": {},
   "outputs": [],
   "source": [
    "import random\n",
    "import uuid\n",
    "from collections import Counter\n",
    "\n",
    "from typed_lists import TypedList, _initialize_global_thread_pool"
   ]
  },
  {
   "attachments": {},
   "cell_type": "markdown",
   "metadata": {},
   "source": [
    "## Examples"
   ]
  },
  {
   "cell_type": "code",
   "execution_count": 2,
   "metadata": {},
   "outputs": [],
   "source": [
    "# can set number of threads to use for parallel operations\n",
    "# this is a global setting and can only be set once\n",
    "# calling this function again will raise an error\n",
    "\n",
    "_initialize_global_thread_pool(4)"
   ]
  },
  {
   "cell_type": "code",
   "execution_count": 3,
   "metadata": {},
   "outputs": [
    {
     "name": "stdout",
     "output_type": "stream",
     "text": [
      "IntTypedList([0, 1, 4, 9, 16]...)\n",
      "StringTypedList ([\"af\", \"bg\", \"ch\", \"di\", \"ej\"])\n",
      "FloatTypedList ([1.0, 1.0, 1.0, 1.0, 1.0])\n",
      "BoolTypedList([false, true, false, true, false]...)\n"
     ]
    }
   ],
   "source": [
    "# examples of creating a typed list \n",
    "print(TypedList(range(10)) * TypedList(range(10)))\n",
    "print(TypedList([\"a\", \"b\", \"c\", \"d\", \"e\"]) + TypedList([\"f\", \"g\", \"h\", \"i\", \"j\"]))\n",
    "print(TypedList([1.0, 2.0, 3.0, 4.0, 5.0]) / TypedList([1.0, 2.0, 3.0, 4.0, 5.0]))\n",
    "print(TypedList([bool(i%2) for i in range(10)]))"
   ]
  },
  {
   "cell_type": "code",
   "execution_count": 4,
   "metadata": {},
   "outputs": [
    {
     "data": {
      "text/plain": [
       "StringTypedList([\"01bd44d2-9549-4919-b508-04511d271189\", \"ed14e793-eb7b-4ff9-b44d-5386fa8eabae\", \"df30b527-9d9b-4a26-9c0b-b35f94a9c7b0\", \"54a79251-d5e8-444f-8854-558e1e3781ae\", \"b1c9c7ca-618c-4272-ae78-77ce1aea8be0\"]...)"
      ]
     },
     "execution_count": 4,
     "metadata": {},
     "output_type": "execute_result"
    }
   ],
   "source": [
    "# parallelized sorting\n",
    "uuids = TypedList([str(uuid.uuid4()) for _ in range(1_000_000)])\n",
    "uuids.sort()\n",
    "uuids"
   ]
  },
  {
   "cell_type": "code",
   "execution_count": 5,
   "metadata": {},
   "outputs": [
    {
     "data": {
      "text/plain": [
       "{0: 199099, 4: 200329, 3: 200150, 1: 200440, 2: 199982}"
      ]
     },
     "execution_count": 5,
     "metadata": {},
     "output_type": "execute_result"
    }
   ],
   "source": [
    "# parallelized counting\n",
    "ids = TypedList([random.randint(0, 4) for _ in range(1_000_000)])\n",
    "ids.count()"
   ]
  },
  {
   "cell_type": "code",
   "execution_count": 6,
   "metadata": {},
   "outputs": [
    {
     "data": {
      "text/plain": [
       "IntTypedList([0, 4, 8, 12, 16]...)"
      ]
     },
     "execution_count": 6,
     "metadata": {},
     "output_type": "execute_result"
    }
   ],
   "source": [
    "# broadcasting and parallelized operations\n",
    "a = TypedList(range(1_000_000))\n",
    "b = TypedList(range(1_000_000))\n",
    "a + b * 3"
   ]
  },
  {
   "cell_type": "code",
   "execution_count": 7,
   "metadata": {},
   "outputs": [
    {
     "name": "stdout",
     "output_type": "stream",
     "text": [
      "IntTypedList ([1, 2, 3, 4])\n",
      "IntTypedList([4, 3, 2, 1, 4]...)\n"
     ]
    }
   ],
   "source": [
    "# slice access\n",
    "print(TypedList(range(10))[1:5])\n",
    "\n",
    "# slice assignement\n",
    "my_typed_list = TypedList(range(10))\n",
    "my_typed_list[:4] = TypedList(range(4, 0, -1))\n",
    "print(my_typed_list)"
   ]
  },
  {
   "cell_type": "code",
   "execution_count": 8,
   "metadata": {},
   "outputs": [
    {
     "name": "stdout",
     "output_type": "stream",
     "text": [
      "fizz buzz: {False: 933333, True: 66666}\n"
     ]
    }
   ],
   "source": [
    "# for bool you can use the &, |, and ^ operators\n",
    "# and they're parallelized and broadcasted\n",
    "# Note: __bool__ still corresponds to the length of the list\n",
    "\n",
    "# fizzbuzz example\n",
    "fizz = TypedList(range(1, 1_000_000)) % 3 == 0\n",
    "buzz = TypedList(range(1, 1_000_000)) % 5 == 0\n",
    "print(f\"fizz buzz: {(fizz & buzz).count()}\")"
   ]
  },
  {
   "cell_type": "code",
   "execution_count": 9,
   "metadata": {},
   "outputs": [
    {
     "name": "stdout",
     "output_type": "stream",
     "text": [
      "BoolTypedList([false, false, true, false, false]...)\n",
      "BoolTypedList([true, true, true, true, true]...)\n",
      "True\n",
      "IntTypedList ([1, 3, 5, 7, 9])\n"
     ]
    }
   ],
   "source": [
    "# comparing typed lists always generates a BoolTypedList \n",
    "print(TypedList(range(10)) == 2)\n",
    "print(TypedList(range(10)) == TypedList(range(10)))\n",
    "\n",
    "# BoolTypedLists can be collapsed to a single bool w/ any or all\n",
    "print((TypedList(range(10)) == 2).any())\n",
    "\n",
    "# BoolTypedLists can be used as a mask\n",
    "print(\n",
    "    TypedList(range(10))[TypedList([bool(i%2) for i in range(10)])]\n",
    ")"
   ]
  },
  {
   "cell_type": "code",
   "execution_count": 10,
   "metadata": {},
   "outputs": [
    {
     "data": {
      "text/plain": [
       "(0.028905274293394068, 0.0008829249669073391)"
      ]
     },
     "execution_count": 10,
     "metadata": {},
     "output_type": "execute_result"
    }
   ],
   "source": [
    "# find the closest point to origin\n",
    "x1, x2 = (\n",
    "    TypedList((random.random() for _ in range(1_000))),\n",
    "    TypedList((random.random() for _ in range(1_000))),\n",
    ")\n",
    "y1, y2 = (0, 0)\n",
    "dists = ((x1 - y1) ** 2 + (x2 - y2) ** 2) ** 0.5\n",
    "closest = dists.argmin()\n",
    "x1[closest], x2[closest]"
   ]
  },
  {
   "attachments": {},
   "cell_type": "markdown",
   "metadata": {},
   "source": [
    "## Performance Example"
   ]
  },
  {
   "cell_type": "code",
   "execution_count": 11,
   "metadata": {},
   "outputs": [],
   "source": [
    "# count \"random\" Strs\n",
    "rust_strs = TypedList([str(random.randint(1, 100)) for _ in range(100)] * 10_000)\n",
    "py_strs = rust_strs.data"
   ]
  },
  {
   "cell_type": "code",
   "execution_count": 12,
   "metadata": {},
   "outputs": [
    {
     "name": "stdout",
     "output_type": "stream",
     "text": [
      "11.4 ms ± 172 µs per loop (mean ± std. dev. of 7 runs, 100 loops each)\n"
     ]
    }
   ],
   "source": [
    "%%timeit\n",
    "_ = rust_strs.count()"
   ]
  },
  {
   "cell_type": "code",
   "execution_count": 13,
   "metadata": {},
   "outputs": [
    {
     "name": "stdout",
     "output_type": "stream",
     "text": [
      "37.5 ms ± 115 µs per loop (mean ± std. dev. of 7 runs, 10 loops each)\n"
     ]
    }
   ],
   "source": [
    "%%timeit\n",
    "_ = Counter(py_strs)"
   ]
  },
  {
   "cell_type": "code",
   "execution_count": 14,
   "metadata": {},
   "outputs": [],
   "source": [
    "# fizzbuzz example\n",
    "# note: creating the TypedList is a a bit slower, \n",
    "# but the operations are faster\n",
    "candidates = range(1, 10_000_000)\n",
    "typed_list = TypedList(candidates)\n",
    "py_list = list(candidates)"
   ]
  },
  {
   "cell_type": "code",
   "execution_count": 15,
   "metadata": {},
   "outputs": [
    {
     "name": "stdout",
     "output_type": "stream",
     "text": [
      "22.7 ms ± 847 µs per loop (mean ± std. dev. of 7 runs, 10 loops each)\n"
     ]
    }
   ],
   "source": [
    "%%timeit\n",
    "fizz = typed_list % 3 == 0\n",
    "buzz = typed_list % 5 == 0\n",
    "_ = typed_list[fizz & buzz]"
   ]
  },
  {
   "cell_type": "code",
   "execution_count": 16,
   "metadata": {},
   "outputs": [
    {
     "name": "stdout",
     "output_type": "stream",
     "text": [
      "341 ms ± 2.34 ms per loop (mean ± std. dev. of 7 runs, 1 loop each)\n"
     ]
    }
   ],
   "source": [
    "%%timeit\n",
    "fizzbuzz = [i for i in py_list if  i % 3 == 0 and i % 5 == 0]"
   ]
  },
  {
   "cell_type": "code",
   "execution_count": 17,
   "metadata": {},
   "outputs": [],
   "source": [
    "# find closest point to origin\n",
    "x1, x2 = (\n",
    "    [random.random() for _ in range(1_000_000)],\n",
    "    [random.random() for _ in range(1_000_000)],\n",
    ")\n",
    "typed_x1, typed_x2 = TypedList(x1), TypedList(x2)\n",
    "y1, y2 = (0, 0)"
   ]
  },
  {
   "cell_type": "code",
   "execution_count": 18,
   "metadata": {},
   "outputs": [
    {
     "name": "stdout",
     "output_type": "stream",
     "text": [
      "8.25 ms ± 217 µs per loop (mean ± std. dev. of 7 runs, 100 loops each)\n"
     ]
    }
   ],
   "source": [
    "%%timeit\n",
    "dists = ((typed_x1 - y1) ** 2 + (typed_x2 - y2) ** 2)\n",
    "min_ix = dists.argmin()\n",
    "_ = x1[min_ix], x2[min_ix]"
   ]
  },
  {
   "cell_type": "code",
   "execution_count": 19,
   "metadata": {},
   "outputs": [
    {
     "name": "stdout",
     "output_type": "stream",
     "text": [
      "170 ms ± 1.33 ms per loop (mean ± std. dev. of 7 runs, 10 loops each)\n"
     ]
    }
   ],
   "source": [
    "%%timeit\n",
    "indices = range(len(x1))\n",
    "min_ix = min(indices, key = lambda i: (x1[i] - y1) ** 2 + (x2[i] - y2) ** 2)\n",
    "_ = x1[min_ix], x2[min_ix]"
   ]
  }
 ],
 "metadata": {
  "kernelspec": {
   "display_name": ".venv",
   "language": "python",
   "name": "python3"
  },
  "language_info": {
   "codemirror_mode": {
    "name": "ipython",
    "version": 3
   },
   "file_extension": ".py",
   "mimetype": "text/x-python",
   "name": "python",
   "nbconvert_exporter": "python",
   "pygments_lexer": "ipython3",
   "version": "3.10.8"
  },
  "orig_nbformat": 4,
  "vscode": {
   "interpreter": {
    "hash": "22b5c01c487d297317e1842c0842f0d9166d4973db8035b2455475d2864d9ca1"
   }
  }
 },
 "nbformat": 4,
 "nbformat_minor": 2
}
