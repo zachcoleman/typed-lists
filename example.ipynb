{
 "cells": [
  {
   "cell_type": "code",
   "execution_count": 1,
   "metadata": {},
   "outputs": [],
   "source": [
    "import random\n",
    "import uuid\n",
    "from collections import Counter\n",
    "\n",
    "from typed_lists import TypedList, _initialize_global_thread_pool"
   ]
  },
  {
   "attachments": {},
   "cell_type": "markdown",
   "metadata": {},
   "source": [
    "## Examples"
   ]
  },
  {
   "cell_type": "code",
   "execution_count": 2,
   "metadata": {},
   "outputs": [],
   "source": [
    "# can set number of threads to use for parallel operations\n",
    "# this is a global setting and can only be set once\n",
    "# calling this function again will raise an error\n",
    "\n",
    "_initialize_global_thread_pool(4)"
   ]
  },
  {
   "cell_type": "code",
   "execution_count": 3,
   "metadata": {},
   "outputs": [
    {
     "name": "stdout",
     "output_type": "stream",
     "text": [
      "IntTypedList([0, 1, 4, 9, 16]...)\n",
      "StringTypedList ([\"af\", \"bg\", \"ch\", \"di\", \"ej\"])\n",
      "FloatTypedList ([1.0, 1.0, 1.0, 1.0, 1.0])\n",
      "BoolTypedList([false, true, false, true, false]...)\n"
     ]
    }
   ],
   "source": [
    "# examples of creating a typed list \n",
    "print(TypedList(range(10)) * TypedList(range(10)))\n",
    "print(TypedList([\"a\", \"b\", \"c\", \"d\", \"e\"]) + TypedList([\"f\", \"g\", \"h\", \"i\", \"j\"]))\n",
    "print(TypedList([1.0, 2.0, 3.0, 4.0, 5.0]) / TypedList([1.0, 2.0, 3.0, 4.0, 5.0]))\n",
    "print(TypedList([bool(i%2) for i in range(10)], \"bool\"))"
   ]
  },
  {
   "cell_type": "code",
   "execution_count": 4,
   "metadata": {},
   "outputs": [
    {
     "data": {
      "text/plain": [
       "StringTypedList([\"00000cf1-870c-469d-99d5-7343782ba814\", \"00002f02-9b33-476c-91fd-557c9ceedea6\", \"0000334f-96ef-46ff-a895-9a6abc9c95d9\", \"0000592a-f9e5-4b00-beb9-bf8546ca8b15\", \"0000612a-0b99-4565-b199-e43dcb63bd92\"]...)"
      ]
     },
     "execution_count": 4,
     "metadata": {},
     "output_type": "execute_result"
    }
   ],
   "source": [
    "# parallelized sorting\n",
    "uuids = TypedList([str(uuid.uuid4()) for _ in range(1_000_000)])\n",
    "uuids.sort()\n",
    "uuids"
   ]
  },
  {
   "cell_type": "code",
   "execution_count": 5,
   "metadata": {},
   "outputs": [
    {
     "data": {
      "text/plain": [
       "{0: 200064, 2: 200951, 3: 199595, 1: 199838, 4: 199552}"
      ]
     },
     "execution_count": 5,
     "metadata": {},
     "output_type": "execute_result"
    }
   ],
   "source": [
    "# parallelized counting\n",
    "ids = TypedList([random.randint(0, 4) for _ in range(1_000_000)])\n",
    "ids.count()"
   ]
  },
  {
   "cell_type": "code",
   "execution_count": 6,
   "metadata": {},
   "outputs": [
    {
     "data": {
      "text/plain": [
       "IntTypedList([0, 4, 8, 12, 16]...)"
      ]
     },
     "execution_count": 6,
     "metadata": {},
     "output_type": "execute_result"
    }
   ],
   "source": [
    "# broadcasting and parallelized operations\n",
    "a = TypedList(range(1_000_000))\n",
    "b = TypedList(range(1_000_000))\n",
    "a + b * 3"
   ]
  },
  {
   "cell_type": "code",
   "execution_count": 7,
   "metadata": {},
   "outputs": [
    {
     "name": "stdout",
     "output_type": "stream",
     "text": [
      "IntTypedList ([1, 2, 3, 4])\n",
      "IntTypedList([4, 3, 2, 1, 4]...)\n"
     ]
    }
   ],
   "source": [
    "# slice access\n",
    "print(TypedList(range(10))[1:5])\n",
    "\n",
    "# slice assignement\n",
    "my_typed_list = TypedList(range(10))\n",
    "my_typed_list[:4] = TypedList(range(4, 0, -1))\n",
    "print(my_typed_list)"
   ]
  },
  {
   "cell_type": "code",
   "execution_count": 8,
   "metadata": {},
   "outputs": [
    {
     "name": "stdout",
     "output_type": "stream",
     "text": [
      "fizz buzz: {True: 66, False: 934}\n"
     ]
    }
   ],
   "source": [
    "# for bool you can use the &, |, and ^ operators\n",
    "# and they're parallelized and broadcasted\n",
    "# Note: __bool__ still corresponds to the length of the list\n",
    "\n",
    "# fizzbuzz example\n",
    "fizz = TypedList([i%3 == 0 and i > 1 for i in range(1_000)])\n",
    "buzz = TypedList([i%5 == 0 and i > 1 for i in range(1_000)])\n",
    "print(f\"fizz buzz: {(fizz & buzz).count()}\")"
   ]
  },
  {
   "cell_type": "code",
   "execution_count": 9,
   "metadata": {},
   "outputs": [
    {
     "name": "stdout",
     "output_type": "stream",
     "text": [
      "BoolTypedList([false, false, true, false, false]...)\n",
      "BoolTypedList([true, true, true, true, true]...)\n",
      "True\n",
      "IntTypedList ([1, 3, 5, 7, 9])\n"
     ]
    }
   ],
   "source": [
    "# comparing typed lists always generates a BoolTypedList \n",
    "print(TypedList(range(10)) == 2)\n",
    "print(TypedList(range(10)) == TypedList(range(10)))\n",
    "\n",
    "# BoolTypedLists can be collapsed to a single bool w/ any or all\n",
    "print((TypedList(range(10)) == 2).any())\n",
    "\n",
    "# BoolTypedLists can be used as a mask\n",
    "print(\n",
    "    TypedList(range(10))[TypedList([bool(i%2) for i in range(10)])]\n",
    ")"
   ]
  },
  {
   "attachments": {},
   "cell_type": "markdown",
   "metadata": {},
   "source": [
    "## Performance Example"
   ]
  },
  {
   "cell_type": "code",
   "execution_count": 10,
   "metadata": {},
   "outputs": [],
   "source": [
    "# count \"random\" strings\n",
    "rust_strs = TypedList([str(random.randint(1, 100)) for _ in range(100)] * 10_000)\n",
    "py_strs = rust_strs.data"
   ]
  },
  {
   "cell_type": "code",
   "execution_count": 11,
   "metadata": {},
   "outputs": [
    {
     "name": "stdout",
     "output_type": "stream",
     "text": [
      "14.5 ms ± 452 µs per loop (mean ± std. dev. of 7 runs, 100 loops each)\n"
     ]
    }
   ],
   "source": [
    "%%timeit\n",
    "_ = rust_strs.count()"
   ]
  },
  {
   "cell_type": "code",
   "execution_count": 12,
   "metadata": {},
   "outputs": [
    {
     "name": "stdout",
     "output_type": "stream",
     "text": [
      "36.4 ms ± 188 µs per loop (mean ± std. dev. of 7 runs, 10 loops each)\n"
     ]
    }
   ],
   "source": [
    "%%timeit\n",
    "_ = Counter(py_strs)"
   ]
  },
  {
   "cell_type": "code",
   "execution_count": 13,
   "metadata": {},
   "outputs": [],
   "source": [
    "# faster using 4 threads\n",
    "assert rust_strs.count() == Counter(py_strs)"
   ]
  }
 ],
 "metadata": {
  "kernelspec": {
   "display_name": ".venv",
   "language": "python",
   "name": "python3"
  },
  "language_info": {
   "codemirror_mode": {
    "name": "ipython",
    "version": 3
   },
   "file_extension": ".py",
   "mimetype": "text/x-python",
   "name": "python",
   "nbconvert_exporter": "python",
   "pygments_lexer": "ipython3",
   "version": "3.10.8"
  },
  "orig_nbformat": 4,
  "vscode": {
   "interpreter": {
    "hash": "22b5c01c487d297317e1842c0842f0d9166d4973db8035b2455475d2864d9ca1"
   }
  }
 },
 "nbformat": 4,
 "nbformat_minor": 2
}
