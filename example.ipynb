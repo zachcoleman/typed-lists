{
 "cells": [
  {
   "cell_type": "code",
   "execution_count": 1,
   "metadata": {},
   "outputs": [],
   "source": [
    "import random\n",
    "import uuid\n",
    "from collections import Counter\n",
    "\n",
    "from typed_lists import TypedList, _initialize_global_thread_pool"
   ]
  },
  {
   "attachments": {},
   "cell_type": "markdown",
   "metadata": {},
   "source": [
    "## Examples"
   ]
  },
  {
   "cell_type": "code",
   "execution_count": 2,
   "metadata": {},
   "outputs": [],
   "source": [
    "# can set number of threads to use for parallel operations\n",
    "# this is a global setting and can only be set once\n",
    "# calling this function again will raise an error\n",
    "\n",
    "_initialize_global_thread_pool(4)"
   ]
  },
  {
   "cell_type": "code",
   "execution_count": 3,
   "metadata": {},
   "outputs": [
    {
     "name": "stdout",
     "output_type": "stream",
     "text": [
      "IntTypedList([0, 1, 4, 9, 16]...)\n",
      "StringTypedList ([\"af\", \"bg\", \"ch\", \"di\", \"ej\"])\n",
      "FloatTypedList ([1.0, 1.0, 1.0, 1.0, 1.0])\n",
      "BoolTypedList([false, true, false, true, false]...)\n"
     ]
    }
   ],
   "source": [
    "# examples of creating a typed list \n",
    "print(TypedList(range(10)) * TypedList(range(10)))\n",
    "print(TypedList([\"a\", \"b\", \"c\", \"d\", \"e\"]) + TypedList([\"f\", \"g\", \"h\", \"i\", \"j\"]))\n",
    "print(TypedList([1.0, 2.0, 3.0, 4.0, 5.0]) / TypedList([1.0, 2.0, 3.0, 4.0, 5.0]))\n",
    "print(TypedList([bool(i%2) for i in range(10)], \"bool\"))"
   ]
  },
  {
   "cell_type": "code",
   "execution_count": 4,
   "metadata": {},
   "outputs": [
    {
     "data": {
      "text/plain": [
       "StringTypedList([\"00000ee9-a0bd-4bf2-96f6-635258d91f4a\", \"00001791-10d5-4b60-b2cd-0da67f440e3e\", \"00001af4-6d91-466c-90d5-992a1a7e1033\", \"0000202e-c5a3-4d8e-be5a-1a65a78b5baa\", \"00002d5d-97e1-45a5-8ad5-31558f4c3e08\"]...)"
      ]
     },
     "execution_count": 4,
     "metadata": {},
     "output_type": "execute_result"
    }
   ],
   "source": [
    "# parallelized sorting\n",
    "uuids = TypedList([str(uuid.uuid4()) for _ in range(1_000_000)])\n",
    "uuids.sort()\n",
    "uuids"
   ]
  },
  {
   "cell_type": "code",
   "execution_count": 5,
   "metadata": {},
   "outputs": [
    {
     "data": {
      "text/plain": [
       "{1: 199539, 0: 200291, 4: 199998, 3: 199703, 2: 200469}"
      ]
     },
     "execution_count": 5,
     "metadata": {},
     "output_type": "execute_result"
    }
   ],
   "source": [
    "# parallelized counting\n",
    "ids = TypedList([random.randint(0, 4) for _ in range(1_000_000)])\n",
    "ids.count()"
   ]
  },
  {
   "cell_type": "code",
   "execution_count": 6,
   "metadata": {},
   "outputs": [
    {
     "data": {
      "text/plain": [
       "IntTypedList([0, 4, 8, 12, 16]...)"
      ]
     },
     "execution_count": 6,
     "metadata": {},
     "output_type": "execute_result"
    }
   ],
   "source": [
    "# broadcasting and parallelized operations\n",
    "a = TypedList(range(1_000_000))\n",
    "b = TypedList(range(1_000_000))\n",
    "a + b * 3"
   ]
  },
  {
   "cell_type": "code",
   "execution_count": 7,
   "metadata": {},
   "outputs": [
    {
     "name": "stdout",
     "output_type": "stream",
     "text": [
      "IntTypedList ([1, 2, 3, 4])\n",
      "IntTypedList([4, 3, 2, 1, 4]...)\n"
     ]
    }
   ],
   "source": [
    "# slice access\n",
    "print(TypedList(range(10))[1:5])\n",
    "\n",
    "# slice assignement\n",
    "my_typed_list = TypedList(range(10))\n",
    "my_typed_list[:4] = TypedList(range(4, 0, -1))\n",
    "print(my_typed_list)"
   ]
  },
  {
   "cell_type": "code",
   "execution_count": 8,
   "metadata": {},
   "outputs": [
    {
     "name": "stdout",
     "output_type": "stream",
     "text": [
      "fizz buzz: {True: 66666, False: 933333}\n"
     ]
    }
   ],
   "source": [
    "# for bool you can use the &, |, and ^ operators\n",
    "# and they're parallelized and broadcasted\n",
    "# Note: __bool__ still corresponds to the length of the list\n",
    "\n",
    "# fizzbuzz example\n",
    "fizz = TypedList(range(1, 1_000_000)) % 3 == 0\n",
    "buzz = TypedList(range(1, 1_000_000)) % 5 == 0\n",
    "print(f\"fizz buzz: {(fizz & buzz).count()}\")"
   ]
  },
  {
   "cell_type": "code",
   "execution_count": 9,
   "metadata": {},
   "outputs": [
    {
     "name": "stdout",
     "output_type": "stream",
     "text": [
      "BoolTypedList([false, false, true, false, false]...)\n",
      "BoolTypedList([true, true, true, true, true]...)\n",
      "True\n",
      "IntTypedList ([1, 3, 5, 7, 9])\n"
     ]
    }
   ],
   "source": [
    "# comparing typed lists always generates a BoolTypedList \n",
    "print(TypedList(range(10)) == 2)\n",
    "print(TypedList(range(10)) == TypedList(range(10)))\n",
    "\n",
    "# BoolTypedLists can be collapsed to a single bool w/ any or all\n",
    "print((TypedList(range(10)) == 2).any())\n",
    "\n",
    "# BoolTypedLists can be used as a mask\n",
    "print(\n",
    "    TypedList(range(10))[TypedList([bool(i%2) for i in range(10)])]\n",
    ")"
   ]
  },
  {
   "attachments": {},
   "cell_type": "markdown",
   "metadata": {},
   "source": [
    "## Performance Example"
   ]
  },
  {
   "cell_type": "code",
   "execution_count": 10,
   "metadata": {},
   "outputs": [],
   "source": [
    "# count \"random\" strings\n",
    "rust_strs = TypedList([str(random.randint(1, 100)) for _ in range(100)] * 10_000)\n",
    "py_strs = rust_strs.data"
   ]
  },
  {
   "cell_type": "code",
   "execution_count": 11,
   "metadata": {},
   "outputs": [
    {
     "name": "stdout",
     "output_type": "stream",
     "text": [
      "14.4 ms ± 219 µs per loop (mean ± std. dev. of 7 runs, 100 loops each)\n"
     ]
    }
   ],
   "source": [
    "%%timeit\n",
    "_ = rust_strs.count()"
   ]
  },
  {
   "cell_type": "code",
   "execution_count": 12,
   "metadata": {},
   "outputs": [
    {
     "name": "stdout",
     "output_type": "stream",
     "text": [
      "34.1 ms ± 258 µs per loop (mean ± std. dev. of 7 runs, 10 loops each)\n"
     ]
    }
   ],
   "source": [
    "%%timeit\n",
    "_ = Counter(py_strs)"
   ]
  },
  {
   "cell_type": "code",
   "execution_count": 13,
   "metadata": {},
   "outputs": [],
   "source": [
    "# fizzbuzz example\n",
    "# note: creating the TypedList is a a bit slower, \n",
    "# but the operations are faster\n",
    "candidates = range(1, 10_000_000)\n",
    "typed_list = TypedList(candidates)\n",
    "py_list = list(candidates)"
   ]
  },
  {
   "cell_type": "code",
   "execution_count": 14,
   "metadata": {},
   "outputs": [
    {
     "name": "stdout",
     "output_type": "stream",
     "text": [
      "22.9 ms ± 912 µs per loop (mean ± std. dev. of 7 runs, 10 loops each)\n"
     ]
    }
   ],
   "source": [
    "%%timeit\n",
    "fizz = typed_list % 3 == 0\n",
    "buzz = typed_list % 5 == 0\n",
    "_ = typed_list[fizz & buzz]"
   ]
  },
  {
   "cell_type": "code",
   "execution_count": 15,
   "metadata": {},
   "outputs": [
    {
     "name": "stdout",
     "output_type": "stream",
     "text": [
      "333 ms ± 4.38 ms per loop (mean ± std. dev. of 7 runs, 1 loop each)\n"
     ]
    }
   ],
   "source": [
    "%%timeit\n",
    "fizzbuzz = [i for i in py_list if  i % 3 == 0 and i % 5 == 0]"
   ]
  }
 ],
 "metadata": {
  "kernelspec": {
   "display_name": ".venv",
   "language": "python",
   "name": "python3"
  },
  "language_info": {
   "codemirror_mode": {
    "name": "ipython",
    "version": 3
   },
   "file_extension": ".py",
   "mimetype": "text/x-python",
   "name": "python",
   "nbconvert_exporter": "python",
   "pygments_lexer": "ipython3",
   "version": "3.10.8"
  },
  "orig_nbformat": 4,
  "vscode": {
   "interpreter": {
    "hash": "22b5c01c487d297317e1842c0842f0d9166d4973db8035b2455475d2864d9ca1"
   }
  }
 },
 "nbformat": 4,
 "nbformat_minor": 2
}
