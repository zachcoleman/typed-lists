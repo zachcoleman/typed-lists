{
 "cells": [
  {
   "cell_type": "code",
   "execution_count": 1,
   "metadata": {},
   "outputs": [],
   "source": [
    "import random\n",
    "import uuid\n",
    "from collections import Counter\n",
    "\n",
    "from typed_lists import TypedList, _initialize_global_thread_pool"
   ]
  },
  {
   "attachments": {},
   "cell_type": "markdown",
   "metadata": {},
   "source": [
    "## Examples"
   ]
  },
  {
   "cell_type": "code",
   "execution_count": 2,
   "metadata": {},
   "outputs": [],
   "source": [
    "# can set number of threads to use for parallel operations\n",
    "# this is a global setting and can only be set once\n",
    "# calling this function again will raise an error\n",
    "\n",
    "_initialize_global_thread_pool(4)"
   ]
  },
  {
   "cell_type": "code",
   "execution_count": 3,
   "metadata": {},
   "outputs": [
    {
     "name": "stdout",
     "output_type": "stream",
     "text": [
      "IntTypedList([0, 1, 4, 9, 16]...)\n",
      "StringTypedList ([\"af\", \"bg\", \"ch\", \"di\", \"ej\"])\n",
      "FloatTypedList ([1.0, 1.0, 1.0, 1.0, 1.0])\n",
      "BoolTypedList([false, true, false, true, false]...)\n"
     ]
    }
   ],
   "source": [
    "# examples of creating a typed list \n",
    "print(TypedList(range(10)) * TypedList(range(10)))\n",
    "print(TypedList([\"a\", \"b\", \"c\", \"d\", \"e\"]) + TypedList([\"f\", \"g\", \"h\", \"i\", \"j\"]))\n",
    "print(TypedList([1.0, 2.0, 3.0, 4.0, 5.0]) / TypedList([1.0, 2.0, 3.0, 4.0, 5.0]))\n",
    "print(TypedList([bool(i%2) for i in range(10)], \"bool\"))"
   ]
  },
  {
   "cell_type": "code",
   "execution_count": 4,
   "metadata": {},
   "outputs": [
    {
     "data": {
      "text/plain": [
       "StringTypedList([\"000008fa-c681-4842-b052-2cd1cce69efc\", \"00000e99-a762-4775-9205-65914b05d931\", \"00001858-c425-4fa0-a428-edcedaaf65e3\", \"000019c6-fc44-49b2-a274-5d0eda66e7bd\", \"0000343a-81cf-4237-aec7-dbbf7cb800c6\"]...)"
      ]
     },
     "execution_count": 4,
     "metadata": {},
     "output_type": "execute_result"
    }
   ],
   "source": [
    "# parallelized sorting\n",
    "uuids = TypedList([str(uuid.uuid4()) for _ in range(1_000_000)])\n",
    "uuids.sort()\n",
    "uuids"
   ]
  },
  {
   "cell_type": "code",
   "execution_count": 5,
   "metadata": {},
   "outputs": [
    {
     "data": {
      "text/plain": [
       "{4: 199473, 3: 200458, 2: 199516, 0: 200317, 1: 200236}"
      ]
     },
     "execution_count": 5,
     "metadata": {},
     "output_type": "execute_result"
    }
   ],
   "source": [
    "# parallelized counting\n",
    "ids = TypedList([random.randint(0, 4) for _ in range(1_000_000)])\n",
    "ids.count()"
   ]
  },
  {
   "cell_type": "code",
   "execution_count": 6,
   "metadata": {},
   "outputs": [
    {
     "data": {
      "text/plain": [
       "IntTypedList([0, 4, 8, 12, 16]...)"
      ]
     },
     "execution_count": 6,
     "metadata": {},
     "output_type": "execute_result"
    }
   ],
   "source": [
    "# broadcasting and parallelized operations\n",
    "a = TypedList(range(1_000_000))\n",
    "b = TypedList(range(1_000_000))\n",
    "a + b * 3"
   ]
  },
  {
   "cell_type": "code",
   "execution_count": 7,
   "metadata": {},
   "outputs": [
    {
     "name": "stdout",
     "output_type": "stream",
     "text": [
      "IntTypedList ([1, 2, 3, 4])\n",
      "IntTypedList([4, 3, 2, 1, 4]...)\n"
     ]
    }
   ],
   "source": [
    "# slice access\n",
    "print(TypedList(range(10))[1:5])\n",
    "\n",
    "# slice assignement\n",
    "my_typed_list = TypedList(range(10))\n",
    "my_typed_list[:4] = TypedList(range(4, 0, -1))\n",
    "print(my_typed_list)"
   ]
  },
  {
   "cell_type": "code",
   "execution_count": 8,
   "metadata": {},
   "outputs": [
    {
     "name": "stdout",
     "output_type": "stream",
     "text": [
      "fizz buzz: {False: 934, True: 66}\n"
     ]
    }
   ],
   "source": [
    "# for bool you can use the &, |, and ^ operators\n",
    "# and they're parallelized and broadcasted\n",
    "# Note: __bool__ still corresponds to the length of the list\n",
    "\n",
    "# fizzbuzz example\n",
    "fizz = TypedList([i%3 == 0 and i > 1 for i in range(1_000)])\n",
    "buzz = TypedList([i%5 == 0 and i > 1 for i in range(1_000)])\n",
    "print(f\"fizz buzz: {(fizz & buzz).count()}\")"
   ]
  },
  {
   "cell_type": "code",
   "execution_count": 9,
   "metadata": {},
   "outputs": [
    {
     "name": "stdout",
     "output_type": "stream",
     "text": [
      "BoolTypedList([true, true, true, true, true]...)\n",
      "True\n",
      "IntTypedList ([1, 3, 5, 7, 9])\n"
     ]
    }
   ],
   "source": [
    "# comparing typed lists always generates a BoolTypedList \n",
    "print(\n",
    "    TypedList(range(10)) == TypedList(range(10))\n",
    ")\n",
    "\n",
    "# BoolTypedLists can be collapsed to a single bool w/ any or all\n",
    "print(\n",
    "    (TypedList(range(10)) == TypedList(range(10))).all()\n",
    ")\n",
    "\n",
    "# BoolTypedLists can be used as a mask\n",
    "print(\n",
    "    TypedList(range(10))[TypedList([bool(i%2) for i in range(10)])]\n",
    ")"
   ]
  },
  {
   "attachments": {},
   "cell_type": "markdown",
   "metadata": {},
   "source": [
    "## Performance Example"
   ]
  },
  {
   "cell_type": "code",
   "execution_count": 10,
   "metadata": {},
   "outputs": [],
   "source": [
    "rust_strs = TypedList([str(random.randint(1, 100)) for _ in range(100)] * 10_000)\n",
    "py_strs = rust_strs.data"
   ]
  },
  {
   "cell_type": "code",
   "execution_count": 11,
   "metadata": {},
   "outputs": [
    {
     "name": "stdout",
     "output_type": "stream",
     "text": [
      "14.9 ms ± 448 µs per loop (mean ± std. dev. of 7 runs, 100 loops each)\n"
     ]
    }
   ],
   "source": [
    "%%timeit\n",
    "_ = rust_strs.count()"
   ]
  },
  {
   "cell_type": "code",
   "execution_count": 12,
   "metadata": {},
   "outputs": [
    {
     "name": "stdout",
     "output_type": "stream",
     "text": [
      "34.4 ms ± 65.9 µs per loop (mean ± std. dev. of 7 runs, 10 loops each)\n"
     ]
    }
   ],
   "source": [
    "%%timeit\n",
    "_ = Counter(py_strs)"
   ]
  },
  {
   "cell_type": "code",
   "execution_count": 13,
   "metadata": {},
   "outputs": [],
   "source": [
    "# faster using 4 threads\n",
    "assert rust_strs.count() == Counter(py_strs)"
   ]
  }
 ],
 "metadata": {
  "kernelspec": {
   "display_name": ".venv",
   "language": "python",
   "name": "python3"
  },
  "language_info": {
   "codemirror_mode": {
    "name": "ipython",
    "version": 3
   },
   "file_extension": ".py",
   "mimetype": "text/x-python",
   "name": "python",
   "nbconvert_exporter": "python",
   "pygments_lexer": "ipython3",
   "version": "3.10.8"
  },
  "orig_nbformat": 4,
  "vscode": {
   "interpreter": {
    "hash": "22b5c01c487d297317e1842c0842f0d9166d4973db8035b2455475d2864d9ca1"
   }
  }
 },
 "nbformat": 4,
 "nbformat_minor": 2
}
