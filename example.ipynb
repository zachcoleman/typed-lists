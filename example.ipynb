{
 "cells": [
  {
   "cell_type": "code",
   "execution_count": 1,
   "metadata": {},
   "outputs": [],
   "source": [
    "import random\n",
    "import uuid\n",
    "from typed_lists import TypedList, _initialize_global_thread_pool"
   ]
  },
  {
   "cell_type": "code",
   "execution_count": 2,
   "metadata": {},
   "outputs": [],
   "source": [
    "# can set number of threads to use for parallel operations\n",
    "# _initialize_global_thread_pool(1)"
   ]
  },
  {
   "cell_type": "code",
   "execution_count": 3,
   "metadata": {},
   "outputs": [
    {
     "name": "stdout",
     "output_type": "stream",
     "text": [
      "FloatTypedList([10.0, 9.0, 8.0, 7.0, 6.0]...)\n",
      "IntTypedList([0, 1, 2, 3, 4]...)\n",
      "StringTypedList([\"a\", \"a\", \"a\", \"a\", \"a\"]...)\n"
     ]
    }
   ],
   "source": [
    "print(TypedList(range(10, 0, -1), \"float\"))\n",
    "print(TypedList(range(10), \"int\"))\n",
    "print(TypedList([\"a\" for _ in range(10)]))"
   ]
  },
  {
   "cell_type": "code",
   "execution_count": 4,
   "metadata": {},
   "outputs": [
    {
     "name": "stdout",
     "output_type": "stream",
     "text": [
      "IntTypedList([0, 1, 4, 9, 16]...)\n",
      "StringTypedList ([\"af\", \"bg\", \"ch\", \"di\", \"ej\"])\n",
      "FloatTypedList ([1.0, 1.0, 1.0, 1.0, 1.0])\n"
     ]
    }
   ],
   "source": [
    "# examples of creating a typed list \n",
    "print(TypedList(range(10)) * TypedList(range(10)))\n",
    "print(TypedList([\"a\", \"b\", \"c\", \"d\", \"e\"]) + TypedList([\"f\", \"g\", \"h\", \"i\", \"j\"]))\n",
    "print(TypedList([1.0, 2.0, 3.0, 4.0, 5.0]) / TypedList([1.0, 2.0, 3.0, 4.0, 5.0]))"
   ]
  },
  {
   "cell_type": "code",
   "execution_count": 5,
   "metadata": {},
   "outputs": [
    {
     "data": {
      "text/plain": [
       "StringTypedList([\"000009bf-fccd-4048-94d6-8cd2491a961f\", \"00001220-2d0c-4146-be83-3a5d2b234e0f\", \"00001222-39b3-4859-ae34-f7af349fa68a\", \"0000130d-85ed-448c-a4de-7f3b3e3d23d1\", \"00001892-1743-46d9-8383-7772e9ef3473\"]...)"
      ]
     },
     "execution_count": 5,
     "metadata": {},
     "output_type": "execute_result"
    }
   ],
   "source": [
    "# parallelized sorting\n",
    "uuids = TypedList([str(uuid.uuid4()) for _ in range(1_000_000)])\n",
    "uuids.sort()\n",
    "uuids"
   ]
  },
  {
   "cell_type": "code",
   "execution_count": 6,
   "metadata": {},
   "outputs": [
    {
     "data": {
      "text/plain": [
       "{2: 200104, 4: 199847, 1: 199969, 0: 199876, 3: 200204}"
      ]
     },
     "execution_count": 6,
     "metadata": {},
     "output_type": "execute_result"
    }
   ],
   "source": [
    "# parallelized counting\n",
    "ids = TypedList([random.randint(0, 4) for _ in range(1_000_000)])\n",
    "ids.count()"
   ]
  },
  {
   "cell_type": "code",
   "execution_count": 7,
   "metadata": {},
   "outputs": [
    {
     "data": {
      "text/plain": [
       "IntTypedList([0, 4, 8, 12, 16]...)"
      ]
     },
     "execution_count": 7,
     "metadata": {},
     "output_type": "execute_result"
    }
   ],
   "source": [
    "# broadcasting and parallelized operations\n",
    "a = TypedList(range(1_000_000))\n",
    "b = TypedList(range(1_000_000))\n",
    "a + b * 3"
   ]
  }
 ],
 "metadata": {
  "kernelspec": {
   "display_name": ".venv",
   "language": "python",
   "name": "python3"
  },
  "language_info": {
   "codemirror_mode": {
    "name": "ipython",
    "version": 3
   },
   "file_extension": ".py",
   "mimetype": "text/x-python",
   "name": "python",
   "nbconvert_exporter": "python",
   "pygments_lexer": "ipython3",
   "version": "3.10.8"
  },
  "orig_nbformat": 4,
  "vscode": {
   "interpreter": {
    "hash": "22b5c01c487d297317e1842c0842f0d9166d4973db8035b2455475d2864d9ca1"
   }
  }
 },
 "nbformat": 4,
 "nbformat_minor": 2
}
